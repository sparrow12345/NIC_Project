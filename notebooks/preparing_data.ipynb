{
 "cells": [
  {
   "cell_type": "markdown",
   "metadata": {},
   "source": [
    "# Overview\n",
    "This notebook is used to create the dataset used in the Nature Inspired Computing"
   ]
  },
  {
   "cell_type": "markdown",
   "metadata": {},
   "source": [
    "# Imports and Global constants"
   ]
  },
  {
   "cell_type": "code",
   "execution_count": 179,
   "metadata": {},
   "outputs": [],
   "source": [
    "import pandas as pd\n",
    "import numpy as np\n",
    "import matplotlib.pyplot as plt\n",
    "import seaborn as sns\n",
    "import os"
   ]
  },
  {
   "cell_type": "code",
   "execution_count": 180,
   "metadata": {},
   "outputs": [],
   "source": [
    "COUNTRY_NAMES = \"https://data.coronadatasource.org/opendata/staticdata/CountryNamesCodesBasic.csv\"\n",
    "REGIONS_DATA = \"https://data.coronadatasource.org/opendata/WorldRegionsContinentsCountries.csv\""
   ]
  },
  {
   "cell_type": "code",
   "execution_count": 181,
   "metadata": {},
   "outputs": [],
   "source": [
    "GROWTH_DATA = \"https://api.worldbank.org/v2/en/indicator/SP.POP.GROW?downloadformat=excel\"\n",
    "GROWTH_DATA_fn = \"pop_growth\"\n",
    "\n",
    "AGE_DEPENDENCY_RATIO_YOUNG = \"https://api.worldbank.org/v2/en/indicator/SP.POP.DPND.YG?downloadformat=excel\"\n",
    "AGE_DEPENDENCY_RATIO_YOUNG_fn = \"young_a_d\"\n",
    "\n",
    "AGE_DEPENDENCY_RATIO_OLD = \"https://api.worldbank.org/v2/en/indicator/SP.POP.DPND.OL?downloadformat=excel\"\n",
    "AGE_DEPENDENCY_RATIO_OLD_fn = \"old_a_d\"\n",
    "\n",
    "# purchase power parity\n",
    "\n",
    "PPP = \"https://api.worldbank.org/v2/en/indicator/NY.GDP.MKTP.PP.CD?downloadformat=excel\"\n",
    "ppp_fn = \"purchasing_power\"\n",
    "\n",
    "GDP = \"https://api.worldbank.org/v2/en/indicator/NY.GDP.MKTP.CD?downloadformat=excel\"\n",
    "gpd_fn = \"gpd\"\n",
    "\n",
    "GDP_GROWTH = \"https://api.worldbank.org/v2/en/indicator/NY.GDP.MKTP.KD.ZG?downloadformat=excel\"\n",
    "grp_growth_fn = \"grd_growth\"\n",
    "\n",
    "# GPD growth per capita\n",
    "GPD_GROWTH_CAP = \"https://api.worldbank.org/v2/en/indicator/NY.GDP.PCAP.KD.ZG?downloadformat=excel\"\n",
    "grp_growth_cap_fn = \"gpd_growth_per_capita\"\n",
    "\n",
    "\n",
    "OIL_RENTS = \"https://api.worldbank.org/v2/en/indicator/NY.GDP.PETR.RT.ZS?downloadformat=excel\"\n",
    "oil_rents_fn = \"oil_rents\"\n",
    "\n",
    "COL_RENTS = \"https://api.worldbank.org/v2/en/indicator/NY.GDP.COAL.RT.ZS?downloadformat=excel\"\n",
    "col_rents_fn = \"col_rents\"\n",
    "\n",
    "INFLATION = \"https://api.worldbank.org/v2/en/indicator/NY.GDP.DEFL.KD.ZG?downloadformat=excel\"\n",
    "inflation_fn = \"inflation\"\n",
    "\n",
    "# gross value added at basic prices\n",
    "GVA = \"https://api.worldbank.org/v2/en/indicator/NY.GDP.FCST.CD?downloadformat=excel\"\n",
    "GVA_fn = \"GVA\" \n",
    "\n",
    "INDUSTRY_VALUE_ADDED = \"https://api.worldbank.org/v2/en/indicator/NV.IND.TOTL.ZS?downloadformat=excel\"\n",
    "industry_value_fn = \"industry_value\"\n",
    "\n",
    "FOREIGN_INVEST = \"https://api.worldbank.org/v2/en/indicator/BX.KLT.DINV.CD.WD?downloadformat=excel\"\n",
    "foreign_invest_fn = \"foreign_invest\"\n"
   ]
  },
  {
   "cell_type": "markdown",
   "metadata": {},
   "source": [
    "## education features"
   ]
  },
  {
   "cell_type": "code",
   "execution_count": 182,
   "metadata": {},
   "outputs": [],
   "source": [
    "SCHOOL_ENROL = \"https://api.worldbank.org/v2/en/indicator/SE.PRM.ENRR?downloadformat=excel\"\n",
    "school_enrol_fn = \"school_enrol\""
   ]
  },
  {
   "cell_type": "markdown",
   "metadata": {},
   "source": [
    "## Energy features"
   ]
  },
  {
   "cell_type": "code",
   "execution_count": 183,
   "metadata": {},
   "outputs": [],
   "source": [
    "ELEC_POWER_CONS = \"https://api.worldbank.org/v2/en/indicator/EG.USE.ELEC.KH.PC?downloadformat=excel\"\n",
    "elec_power_cons_fn = \"elec_power_cons\"\n",
    "\n",
    "OIL_CONS = \"https://api.worldbank.org/v2/en/indicator/EG.USE.COMM.FO.ZS?downloadformat=excel\"\n",
    "oil_cons_fn = \"oil_consumption\"\n",
    "\n",
    "ENERGY_USE = \"https://api.worldbank.org/v2/en/indicator/EG.USE.PCAP.KG.OE?downloadformat=excel\"\n",
    "energy_use_fn = \"energy_use\""
   ]
  },
  {
   "cell_type": "markdown",
   "metadata": {},
   "source": [
    "## agriculture data"
   ]
  },
  {
   "cell_type": "code",
   "execution_count": 184,
   "metadata": {},
   "outputs": [],
   "source": [
    "RURAL_POPULATION = \"https://api.worldbank.org/v2/en/indicator/SP.RUR.TOTL.ZS?downloadformat=excel\"\n",
    "rural_pop_fn = \"rural_pop\"\n",
    "\n",
    "FOOD_PRODUCTION = 'https://api.worldbank.org/v2/en/indicator/AG.PRD.FOOD.XD?downloadformat=excel'\n",
    "food_prod_fn = \"food_consumption\""
   ]
  },
  {
   "cell_type": "markdown",
   "metadata": {},
   "source": [
    "## Aid features"
   ]
  },
  {
   "cell_type": "code",
   "execution_count": 185,
   "metadata": {},
   "outputs": [],
   "source": [
    "MORTALITY_RATE = \"https://api.worldbank.org/v2/en/indicator/SH.DYN.MORT?downloadformat=excel\"\n",
    "mortality_rate_fn = \"moratality_rate\"\n",
    "\n",
    "AGRI_LAND = \"https://api.worldbank.org/v2/en/indicator/AG.LND.AGRI.ZS?downloadformat=excel\"\n",
    "agri_land_fn = \"agri_land\""
   ]
  },
  {
   "cell_type": "code",
   "execution_count": 186,
   "metadata": {},
   "outputs": [],
   "source": [
    "LIFE_EXP_MALE = \"https://api.worldbank.org/v2/en/indicator/SP.DYN.LE00.MA.IN?downloadformat=excel\"\n",
    "life_exp_male_fn = \"life_exp_male\"\n",
    "\n",
    "LIFE_EXP_FEMALE = \"https://api.worldbank.org/v2/en/indicator/SP.DYN.LE00.MA.IN?downloadformat=excel\"\n",
    "life_exp_female_fn = \"life_exp_female\"\n",
    "\n",
    "OUT_OF_SCHOOL = \"https://api.worldbank.org/v2/en/indicator/SE.PRM.UNER.MA?downloadformat=excel\"\n",
    "out_of_school_fn = \"out_of_school\""
   ]
  },
  {
   "cell_type": "code",
   "execution_count": 187,
   "metadata": {},
   "outputs": [],
   "source": [
    "DEATH_RATE = \"https://api.worldbank.org/v2/en/indicator/SP.DYN.CDRT.IN?downloadformat=excel\"\n",
    "death_rate = \"death_rate\"\n",
    "\n",
    "FERTILITY_RATE = \"https://api.worldbank.org/v2/en/indicator/SP.DYN.TFRT.IN?downloadformat=excel\"\n",
    "fertility_rate_fn = \"fertelity_rate\""
   ]
  },
  {
   "cell_type": "code",
   "execution_count": 188,
   "metadata": {},
   "outputs": [],
   "source": [
    "links = [AGE_DEPENDENCY_RATIO_YOUNG, AGE_DEPENDENCY_RATIO_OLD\n",
    "         , PPP, GDP, GDP_GROWTH, GPD_GROWTH_CAP, OIL_RENTS, COL_RENTS,\n",
    "         INFLATION, GVA, INDUSTRY_VALUE_ADDED, FOREIGN_INVEST,SCHOOL_ENROL, ELEC_POWER_CONS, OIL_CONS, ENERGY_USE, RURAL_POPULATION\n",
    "         , FOOD_PRODUCTION, MORTALITY_RATE, AGRI_LAND, \n",
    "         LIFE_EXP_MALE, LIFE_EXP_FEMALE, DEATH_RATE, FERTILITY_RATE]\n",
    "\n",
    "feat_names = [AGE_DEPENDENCY_RATIO_YOUNG_fn, AGE_DEPENDENCY_RATIO_OLD_fn, \n",
    "              ppp_fn, gpd_fn, grp_growth_fn, grp_growth_cap_fn,  oil_rents_fn, col_rents_fn, \n",
    "              inflation_fn, GVA_fn, industry_value_fn, foreign_invest_fn, school_enrol_fn\n",
    "            , elec_power_cons_fn, oil_cons_fn, energy_use_fn, rural_pop_fn\n",
    "            , food_prod_fn, mortality_rate_fn, agri_land_fn , life_exp_male_fn, life_exp_female_fn\n",
    "            , death_rate, fertility_rate_fn]"
   ]
  },
  {
   "cell_type": "code",
   "execution_count": 189,
   "metadata": {},
   "outputs": [
    {
     "name": "stdout",
     "output_type": "stream",
     "text": [
      "             name code_2 code_3  code_num\n",
      "0     afghanistan     AF    AFG         4\n",
      "1   aland islands     AX    ALA       248\n",
      "2         albania     AL    ALB         8\n",
      "3         algeria     DZ    DZA        12\n",
      "4  american samoa     AS    ASM        16\n"
     ]
    }
   ],
   "source": [
    "countries = pd.read_csv(COUNTRY_NAMES)\n",
    "countries = countries.rename(columns={\"Country Name (usual)\": \"name\", \n",
    "                                              \"2char country code\": \"code_2\", \"3char country code\": \"code_3\", \"numeric code\": \"code_num\"})\n",
    "\n",
    "# convert the name column to lowercase\n",
    "countries['name'] = countries['name'].apply(str.lower).apply(str.strip)\n",
    "print(countries.head())"
   ]
  },
  {
   "cell_type": "markdown",
   "metadata": {},
   "source": [
    "# functions to impute missing values"
   ]
  },
  {
   "cell_type": "code",
   "execution_count": 190,
   "metadata": {},
   "outputs": [],
   "source": [
    "def preprocess_word_bank_df(df: pd.DataFrame) -> pd.DataFrame:\n",
    "    # rename columns\n",
    "    df = df.rename(columns={\"Country Name\": \"name\", \"Country Code\": \"code\"})\n",
    "    # convert the country's name to lower case for uniformity\n",
    "    df['name'] = df['name'].apply(str.lower)\n",
    "    return df\n",
    "\n",
    "def remove_too_null(df: pd.DataFrame) -> pd.DataFrame:\n",
    "    # remove any row whose more than half its values is Nan\n",
    "    null_ratio = df.isna().sum(axis=1) / len(df.columns)\n",
    "    return df[null_ratio < 0.5]\n",
    "\n",
    "def prepare_word_bank_df(df: pd.DataFrame,  column_name: str)  -> pd.DataFrame:\n",
    "    new_df = preprocess_word_bank_df(df)\n",
    "    new_df = remove_too_null(new_df)\n",
    "    \n",
    "    first_mean = new_df.drop(columns=['name', 'code']).iloc[:, 0].mean()\n",
    "    last_mean = new_df.iloc[:, -1].mean()\n",
    "    \n",
    "    # extract the null rows\n",
    "    null_rows = new_df[new_df.isna().any(axis=1)]\n",
    "    # drop them from the original new_df\n",
    "    new_df.dropna(inplace=True)\n",
    "        \n",
    "    # check if the resulting dataframe is empty\n",
    "    if null_rows.empty:\n",
    "        return new_df\n",
    "    \n",
    "    name_code = null_rows.loc[:, ['name', 'code']]\n",
    "    \n",
    "    # set the index to TimeStamp object to experiment with \n",
    "    null_rows = null_rows.drop(columns=['name', 'code']).transpose()\n",
    "    null_rows.index = pd.Index([pd.to_datetime(i) for i in df.columns[2:]])\n",
    "    \n",
    "    # interpolate the missing data\n",
    "    for d in null_rows.columns:\n",
    "\n",
    "        # impute the missing values with the time method\n",
    "        # this requires setting the index to datetime type\n",
    "        null_rows[d] = null_rows[d].interpolate(method='time')\n",
    "\n",
    "\n",
    "        if null_rows[d].isna().any():\n",
    "            # try spline interpolation \n",
    "            null_rows[d] = null_rows[d].interpolate(option='spline')\n",
    "        else: continue\n",
    "        \n",
    "        if null_rows[d].isna().any():\n",
    "            # this generally means either the first value or the last one are set to Nan \n",
    "            if np.isnan(null_rows[d].iloc[0]):\n",
    "                # set the first value to the general mean\n",
    "                null_rows[d].iloc[0] = first_mean\n",
    "            \n",
    "            if np.isnan(null_rows[d].iloc[-1]):\n",
    "                # set the last value to the general mean\n",
    "                null_rows[d].iloc[-1] = last_mean\n",
    "                        \n",
    "            null_rows[d] = null_rows[d].interpolate(method='linear')\n",
    "        else:\n",
    "            continue\n",
    "        \n",
    "        # print(\"after linear interpolation\")\n",
    "        # i = null_rows[d].isna().sum()\n",
    "        # print(i)\n",
    "\n",
    "        # if there are still null values, first try the LOCF filling method \n",
    "        # second, try the FOCF filling method\n",
    "        if null_rows[d].isna().any():\n",
    "            null_rows[d] = null_rows[d].fillna(method='bfill')        \n",
    "        else: continue\n",
    "        \n",
    "        # print(\"after ffill method\")\n",
    "        # i = null_rows[d].isna().sum()\n",
    "        # print(i)\n",
    "                \n",
    "    null_rows = null_rows.transpose()\n",
    "    \n",
    "    # convert the columns from datetime object to strings\n",
    "    null_rows.columns = [str(i.year) for i in null_rows.columns]\n",
    "\n",
    "    # restore the code and the name columns\n",
    "    null_rows['code'] = name_code.loc[null_rows.index, 'code']\n",
    "    null_rows['name'] = name_code.loc[null_rows.index, 'name']\n",
    "    \n",
    "    assert (set(new_df.columns) == set(null_rows.columns))\n",
    "        \n",
    "    new_df = pd.concat([new_df, null_rows], ignore_index=True)\n",
    "    # print(new_df.isna().sum())\n",
    "    \n",
    "    new_df = pd.melt(new_df, id_vars=['name', 'code'], value_vars=[i for i in new_df.columns if i not in ['code, name']])\n",
    "    new_df = new_df.rename(columns={\"variable\": \"year\", \"value\": column_name})\n",
    "    \n",
    "    return new_df.dropna(axis=1)\n",
    "\n",
    "\n",
    "NOT_USE_COLS = [\"Indicator Name\",\"Indicator Code\",\"1960\"]\n",
    "def get_df(link, feat_name, save=False, path=None):\n",
    "    global NOT_USE_COLS\n",
    "    try:\n",
    "        data = pd.read_excel(link, usecols=lambda x : x not in NOT_USE_COLS, skiprows=3)\n",
    "    except UnicodeDecodeError:\n",
    "        data = pd.read_csv(link, usecols=lambda x : x not in NOT_USE_COLS, skiprows=3)\n",
    "    assert not save or save is not None\n",
    "    \n",
    "    new_data = prepare_word_bank_df(data, feat_name)\n",
    "    if save:\n",
    "        new_data.to_excel(os.path.join(os.getcwd(), path))\n",
    "    return new_data\n"
   ]
  },
  {
   "cell_type": "code",
   "execution_count": 191,
   "metadata": {},
   "outputs": [],
   "source": [
    "dfs = [get_df(l, fn, save=True, path=os.path.join('generated_data', f\"{fn}.xlsx\")) for l, fn in zip(links, feat_names)]"
   ]
  },
  {
   "cell_type": "code",
   "execution_count": null,
   "metadata": {},
   "outputs": [],
   "source": [
    "all_data = get_df(GROWTH_DATA, GROWTH_DATA_fn).copy()\n",
    "growth_data = all_data.copy()\n",
    "\n",
    "def common_indices(df):\n",
    "    global all_data\n",
    "    d_temp = df.copy()\n",
    "    s1 = (set(list(d_temp.set_index(['code', 'year']).index)))\n",
    "    s2 = (set(list(growth_data.set_index(['code', 'year']).index)))    \n",
    "    return len(s1.intersection(s2))\n",
    "\n",
    "for d in dfs:\n",
    "    print(common_indices(d))"
   ]
  },
  {
   "cell_type": "code",
   "execution_count": null,
   "metadata": {},
   "outputs": [],
   "source": [
    "# in order to maximize the number of samples in the final generated dataset, sort the dataframes according\n",
    "# to the number of common rows with the population's growth data.\n",
    "dfs_sorted = sorted(dfs, key=lambda x:common_indices(x), reverse=True)\n",
    "for d in dfs_sorted:\n",
    "    print (common_indices(d))"
   ]
  },
  {
   "cell_type": "code",
   "execution_count": null,
   "metadata": {},
   "outputs": [],
   "source": [
    "# after the agri_land_fn: the number of common rows (by combination of code + year) decreases to less than 5k\n",
    "# leading to a small dataset\n",
    "for df, l in zip(dfs_sorted, feat_names):\n",
    "    if l == agri_land_fn: break\n",
    "    print(f\"feat {l}\")\n",
    "    all_data = pd.merge(all_data, df.drop('name', axis=1), on=['code', 'year'], how='inner')\n",
    "    print(f\"the shape after merging {all_data.shape}\")"
   ]
  },
  {
   "cell_type": "code",
   "execution_count": 201,
   "metadata": {},
   "outputs": [],
   "source": [
    "all_data.to_excel(os.path.join('generated_data', f'final_dataset.xlsx'))"
   ]
  }
 ],
 "metadata": {
  "kernelspec": {
   "display_name": "Python 3.11.0 64-bit",
   "language": "python",
   "name": "python3"
  },
  "language_info": {
   "codemirror_mode": {
    "name": "ipython",
    "version": 3
   },
   "file_extension": ".py",
   "mimetype": "text/x-python",
   "name": "python",
   "nbconvert_exporter": "python",
   "pygments_lexer": "ipython3",
   "version": "3.11.0"
  },
  "orig_nbformat": 4,
  "vscode": {
   "interpreter": {
    "hash": "de47f5c92c0ee6f12a59a5613ac5feff6aab19ddff207ba0b3964cced08c4ccc"
   }
  }
 },
 "nbformat": 4,
 "nbformat_minor": 2
}
