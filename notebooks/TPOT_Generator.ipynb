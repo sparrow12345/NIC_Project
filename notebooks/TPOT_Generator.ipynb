{
 "cells": [
  {
   "cell_type": "code",
   "execution_count": 1,
   "metadata": {},
   "outputs": [],
   "source": [
    "# import models from tpot\n",
    "from tpot import TPOTClassifier, TPOTRegressor\n",
    "from sklearn.model_selection import train_test_split\n",
    "from sklearn.datasets import make_classification\n",
    "from sklearn.preprocessing import OrdinalEncoder\n",
    "from sklearn.datasets import make_regression\n",
    "import pandas as pd\n",
    "import numpy as np\n",
    "from sklearn import metrics as met\n",
    "\n",
    "\n",
    "def preprocess_data(df):\n",
    "    df = df.drop(['name', 'code'], axis=1)\n",
    "\n",
    "    Y = df['pop_growth']\n",
    "    X = df.drop('pop_growth', axis=1)\n",
    "    return X, Y\n"
   ]
  },
  {
   "cell_type": "code",
   "execution_count": 2,
   "metadata": {},
   "outputs": [],
   "source": [
    "score_function_reg = {'mse': lambda y_true, y_pred: met.mean_squared_error(y_true, y_pred, squared=True), \n",
    "    'mae': met.mean_absolute_error, \n",
    "    'r2': met.r2_score, \n",
    "    'rmse': lambda y_true, y_pred: met.mean_squared_error(y_true, y_pred, squared=False), \n",
    "    'msle': met.mean_squared_log_error}\n",
    "\n",
    "def try_TPOT_reg(X, y, metrics = ['mse'], test_size=0.2, save=True, save_path=None, generations=5, population_size=20, cv=5,\n",
    "                    random_state=42, verbosity=2):\n",
    "    \n",
    "    # the dataset passed is assumed to be ready to be processed\n",
    "    # all its features are numerical and all its missing values are imputed/discarded\n",
    "\n",
    "    # in case no save path is specified and save==True\n",
    "    if save and save_path is None:\n",
    "       raise ValueError(\"Please pass a path to save the model or set the 'save' parameter to False\")\n",
    "\n",
    "    # in case one metric is added as a string\n",
    "    if isinstance(metrics, str):\n",
    "        metrics = [metrics]\n",
    "\n",
    "    if 'msle' in metrics and (y <= 0).any():\n",
    "        # msle cannot be used for target variables with non-positive values\n",
    "        metrics.remove('msle')\n",
    "    \n",
    "    #train test split\n",
    "    X_train, X_test, y_train, y_test = train_test_split(X, y, test_size=test_size, random_state=11)\n",
    "    # Standard TPOT Regressor Initializer\n",
    "    reg = TPOTRegressor(generations=generations, population_size=population_size, cv=cv,\n",
    "                                    random_state=random_state, verbosity=verbosity)\n",
    "    \n",
    "    # fitting to the data\n",
    "    reg.fit(X_train, y_train)\n",
    "    # predicting outcome of test data\n",
    "    y_pred = reg.predict(X_test)\n",
    "    # calculating and storing accuracy\n",
    "    scores = dict(list(zip(metrics, [round(score_function_reg[m](y_test, y_pred), 3) for m in metrics])))\n",
    "    \n",
    "    # exporting the model to the passed path\n",
    "    reg.export('tpot_model_reg.py', save_path)\n",
    "\n",
    "    return reg, scores\n"
   ]
  },
  {
   "cell_type": "code",
   "execution_count": 3,
   "metadata": {},
   "outputs": [],
   "source": [
    "score_function_clf = {\"acc\": met.accuracy_score, \n",
    "    \"f1\": met.f1_score, \n",
    "    \"bal_acc\": met.balanced_accuracy_score, \n",
    "    'precision': met.precision_score, \n",
    "    \"recall\": met.recall_score}\n",
    "\n",
    "def try_TPOT_clf(X, y, metrics = ['acc'], test_size=0.2, save=True, save_path=None, generations=5, population_size=20, cv=5,\n",
    "                    random_state=42, verbosity=2):\n",
    "    \n",
    "    # the dataset passed is assumed to be ready to be processed\n",
    "    # all its features are numerical and all its missing values are dealt with\n",
    "\n",
    "    # in case no save path is specified and save==True\n",
    "    if save and save_path is None:\n",
    "       raise ValueError(\"Please pass a path to save the model or set the 'save' parameter to False\")\n",
    "\n",
    "    # in case one metric is added as a string\n",
    "    if isinstance(metrics, str):\n",
    "        metrics = [metrics]\n",
    "\n",
    "    if 'precision' in metrics and (len(np.unique(y)) > 2):\n",
    "        # precision will not be used for multi-class target variables\n",
    "        metrics.remove('precision')\n",
    "    \n",
    "    if 'recall' in metrics and (len(np.unique(y)) > 2):\n",
    "        # recall will not be used for multi-class target variables\n",
    "        metrics.remove('recall')\n",
    "\n",
    "    if 'f1' in metrics and (len(np.unique(y)) > 2):\n",
    "        #f1 score will not be used for multi-class target variables\n",
    "        metrics.remove('f1')\n",
    "    \n",
    "    #train test split\n",
    "    X_train, X_test, y_train, y_test = train_test_split(X, y, test_size=test_size, random_state=11)\n",
    "\n",
    "    # Standard TPOT Regressor Initializer\n",
    "    clf = TPOTClassifier(generations=generations, population_size=population_size, cv=cv,\n",
    "                                    random_state=random_state, verbosity=verbosity)\n",
    "    \n",
    "    # fitting to the data\n",
    "    clf.fit(X_train, y_train)\n",
    "    # predicting outcome of test data\n",
    "    y_pred = clf.predict(X_test)\n",
    "    # calculating and storing accuracy\n",
    "    scores = dict(list(zip(metrics, [round(score_function_clf[m](y_test, y_pred), 3) for m in metrics])))\n",
    "    \n",
    "    # exporting the model to the passed path\n",
    "    clf.export('tpot_model_clf.py', save_path)\n",
    "\n",
    "    return clf, scores\n"
   ]
  },
  {
   "cell_type": "code",
   "execution_count": 5,
   "metadata": {},
   "outputs": [
    {
     "data": {
      "application/vnd.jupyter.widget-view+json": {
       "model_id": "0fa5e6b43b4d44deaa0ff4b39b2ca36c",
       "version_major": 2,
       "version_minor": 0
      },
      "text/plain": [
       "Optimization Progress:   0%|          | 0/120 [00:00<?, ?pipeline/s]"
      ]
     },
     "metadata": {},
     "output_type": "display_data"
    },
    {
     "name": "stdout",
     "output_type": "stream",
     "text": [
      "\n",
      "Generation 1 - Current best internal CV score: -0.12007383403845165\n",
      "\n",
      "Generation 2 - Current best internal CV score: -0.12007383403845165\n",
      "\n",
      "Generation 3 - Current best internal CV score: -0.12007383403845165\n",
      "\n",
      "Generation 4 - Current best internal CV score: -0.12007383403845165\n",
      "\n",
      "Generation 5 - Current best internal CV score: -0.12007383403845165\n",
      "\n",
      "Best pipeline: LassoLarsCV(input_matrix, normalize=True)\n",
      "{'mse': 0.168, 'mae': 0.162, 'r2': 0.91, 'rmse': 0.41}\n"
     ]
    },
    {
     "data": {
      "application/vnd.jupyter.widget-view+json": {
       "model_id": "6c017412d67447fe8f813bac0e146ec3",
       "version_major": 2,
       "version_minor": 0
      },
      "text/plain": [
       "Optimization Progress:   0%|          | 0/120 [00:00<?, ?pipeline/s]"
      ]
     },
     "metadata": {},
     "output_type": "display_data"
    },
    {
     "name": "stdout",
     "output_type": "stream",
     "text": [
      "\n",
      "Generation 1 - Current best internal CV score: 0.9574999999999999\n",
      "\n",
      "\n",
      "TPOT closed during evaluation in one generation.\n",
      "WARNING: TPOT may not provide a good pipeline if TPOT is stopped/interrupted in a early generation.\n",
      "\n",
      "\n",
      "TPOT closed prematurely. Will use the current best pipeline.\n",
      "\n",
      "Best pipeline: ExtraTreesClassifier(MLPClassifier(input_matrix, alpha=0.1, learning_rate_init=0.001), bootstrap=False, criterion=gini, max_features=0.9500000000000001, min_samples_leaf=17, min_samples_split=5, n_estimators=100)\n",
      "{'acc': 0.95, 'bal_acc': 0.948}\n"
     ]
    }
   ],
   "source": [
    "df = pd.read_excel('final_dataset.xlsx', index_col=0)\n",
    "\n",
    "X, Y = preprocess_data(df)\n",
    "\n",
    "lr, results = try_TPOT_reg(X, Y, save=False, save_path='', metrics=['mse', 'mae', 'r2', 'msle', 'rmse'])\n",
    "\n",
    "print(results)"
   ]
  },
  {
   "cell_type": "code",
   "execution_count": null,
   "metadata": {},
   "outputs": [],
   "source": []
  }
 ],
 "metadata": {
  "kernelspec": {
   "display_name": "Python 3.8.10 ('venv': venv)",
   "language": "python",
   "name": "python3"
  },
  "language_info": {
   "codemirror_mode": {
    "name": "ipython",
    "version": 3
   },
   "file_extension": ".py",
   "mimetype": "text/x-python",
   "name": "python",
   "nbconvert_exporter": "python",
   "pygments_lexer": "ipython3",
   "version": "3.8.10"
  },
  "orig_nbformat": 4,
  "vscode": {
   "interpreter": {
    "hash": "61791c176976d1dba33a88a8a27a02f11bc2b338382ecaeae452ea430b08bb75"
   }
  }
 },
 "nbformat": 4,
 "nbformat_minor": 2
}
